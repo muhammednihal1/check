{
 "cells": [
  {
   "cell_type": "code",
   "execution_count": 1,
   "id": "8a3db387-e451-4f00-bb2b-41e7bdc8bac3",
   "metadata": {},
   "outputs": [
    {
     "name": "stdin",
     "output_type": "stream",
     "text": [
      "Enter a number : 5\n"
     ]
    },
    {
     "name": "stdout",
     "output_type": "stream",
     "text": [
      "5+55+555=615\n"
     ]
    }
   ],
   "source": [
    "#COMPUTE n+nn+nnn\n",
    "n=(input(\"Enter a number :\"))\n",
    "r=int(n)+int(n*2)+int(n*3)\n",
    "print(f\"{n}+{n*2}+{n*3}={r}\")"
   ]
  },
  {
   "cell_type": "code",
   "execution_count": 3,
   "id": "a5ecd675-f023-400f-91e4-b22d8c0e2692",
   "metadata": {},
   "outputs": [
    {
     "name": "stdin",
     "output_type": "stream",
     "text": [
      "Enter the radius : 3\n"
     ]
    },
    {
     "name": "stdout",
     "output_type": "stream",
     "text": [
      "Area of the circle with radius 3.0 = 28.27\n"
     ]
    }
   ],
   "source": [
    "#AREA OF A CIRCLE\n",
    "import math\n",
    "r=float(input(\"Enter the radius :\"))\n",
    "area=math.pi*(r*r)\n",
    "print(\"Area of the circle with radius {} = {:.2f}\".format(r,area))"
   ]
  },
  {
   "cell_type": "code",
   "execution_count": 4,
   "id": "920775e8-3616-4995-ad00-27d7e3653a44",
   "metadata": {},
   "outputs": [
    {
     "name": "stdin",
     "output_type": "stream",
     "text": [
      "Enter a number : 1\n",
      "Enter a number : 64\n",
      "Enter a number : 100\n"
     ]
    },
    {
     "name": "stdout",
     "output_type": "stream",
     "text": [
      "The maximum of three numbers = 100\n"
     ]
    }
   ],
   "source": [
    "#MAXIUM OF THREE NUMBERS\n",
    "a=int(input(\"Enter a number :\"))\n",
    "b=int(input(\"Enter a number :\"))\n",
    "c=int(input(\"Enter a number :\"))\n",
    "maximum=max(a,b,c)\n",
    "print(\"The maximum of three numbers =\",maximum)"
   ]
  },
  {
   "cell_type": "code",
   "execution_count": null,
   "id": "f0d0de70-78f4-446a-9b5b-4486a483cd0f",
   "metadata": {},
   "outputs": [],
   "source": []
  }
 ],
 "metadata": {
  "kernelspec": {
   "display_name": "Python 3 (ipykernel)",
   "language": "python",
   "name": "python3"
  },
  "language_info": {
   "codemirror_mode": {
    "name": "ipython",
    "version": 3
   },
   "file_extension": ".py",
   "mimetype": "text/x-python",
   "name": "python",
   "nbconvert_exporter": "python",
   "pygments_lexer": "ipython3",
   "version": "3.11.9"
  }
 },
 "nbformat": 4,
 "nbformat_minor": 5
}
