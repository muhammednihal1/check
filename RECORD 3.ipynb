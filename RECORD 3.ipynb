{
 "cells": [
  {
   "cell_type": "code",
   "execution_count": 3,
   "id": "d27afbae-0b9d-4f5f-b925-a880b181d3be",
   "metadata": {},
   "outputs": [
    {
     "name": "stdin",
     "output_type": "stream",
     "text": [
      "Enter a word:  nythop\n"
     ]
    },
    {
     "name": "stdout",
     "output_type": "stream",
     "text": [
      "Swapped word: python\n"
     ]
    }
   ],
   "source": [
    "# 1.Change a given string to a new string where the first and last chars have been exchanged.[eg: python -> nythop]\n",
    "\n",
    "a = input(\"Enter a word: \")\n",
    "nstring = a[-1:] + a[1:-1] + a[:1]\n",
    "print(\"Swapped word:\", nstring)"
   ]
  },
  {
   "cell_type": "code",
   "execution_count": 4,
   "id": "b68ea378-b5d5-41d2-9afe-4f48b7f0f024",
   "metadata": {},
   "outputs": [
    {
     "name": "stdin",
     "output_type": "stream",
     "text": [
      "Enter the first string:  hello\n",
      "Enter the second string:  hi\n"
     ]
    },
    {
     "name": "stdout",
     "output_type": "stream",
     "text": [
      "Result: hillo he\n"
     ]
    }
   ],
   "source": [
    "# 2.Single string from two given strings, separated by a space and swap the first two characters of each string.\n",
    "str1 = input(\"Enter the first string: \")\n",
    "str2 = input(\"Enter the second string: \")\n",
    "newstr1 = str2[:2] + str1[2:]\n",
    "newstr2 = str1[:2] + str2[2:]\n",
    "result = newstr1 + \" \" + newstr2\n",
    "print(\"Result:\", result)\n",
    "\n"
   ]
  },
  {
   "cell_type": "code",
   "execution_count": 9,
   "id": "a7055b89-4ff6-4c5e-9f5d-5a0bac6f920c",
   "metadata": {},
   "outputs": [
    {
     "name": "stdin",
     "output_type": "stream",
     "text": [
      "Enter a string:  onion\n"
     ]
    },
    {
     "name": "stdout",
     "output_type": "stream",
     "text": [
      "string is: oni$n\n"
     ]
    }
   ],
   "source": [
    "# 3.String occurrences of its first char have been changed to $, except the first char itself.[ex: oniononi$n]\n",
    "s= input(\"Enter a string: \")\n",
    "first_char =s[0]\n",
    "modified_string = first_char + s[1:].replace(first_char, \"$\")\n",
    "print(\"string is:\", modified_string)"
   ]
  },
  {
   "cell_type": "code",
   "execution_count": 5,
   "id": "9b10ef91-b674-42ce-a065-b17882ea1d4b",
   "metadata": {},
   "outputs": [
    {
     "name": "stdin",
     "output_type": "stream",
     "text": [
      "Enter color names separated by commas:  red,green,yellow,black,purple\n"
     ]
    },
    {
     "name": "stdout",
     "output_type": "stream",
     "text": [
      "First color: red\n",
      "Last color: purple\n"
     ]
    }
   ],
   "source": [
    "# 4.Create a list of colors. Display first and last colors.\n",
    "c= input(\"Enter color names separated by commas: \")\n",
    "colors= [color.strip() for color in c.split(\",\")]\n",
    "\n",
    "fcolor = colors[0:1] or [\"No colors entered\"]\n",
    "lcolor = colors[-1:] or [\"No colors entered\"]\n",
    "\n",
    "print(\"First color:\", fcolor[0])\n",
    "print(\"Last color:\", lcolor[0])"
   ]
  }
 ],
 "metadata": {
  "kernelspec": {
   "display_name": "Python 3 (ipykernel)",
   "language": "python",
   "name": "python3"
  },
  "language_info": {
   "codemirror_mode": {
    "name": "ipython",
    "version": 3
   },
   "file_extension": ".py",
   "mimetype": "text/x-python",
   "name": "python",
   "nbconvert_exporter": "python",
   "pygments_lexer": "ipython3",
   "version": "3.11.9"
  }
 },
 "nbformat": 4,
 "nbformat_minor": 5
}
